{
 "cells": [
  {
   "cell_type": "code",
   "execution_count": 1,
   "id": "f6727653",
   "metadata": {},
   "outputs": [
    {
     "name": "stdout",
     "output_type": "stream",
     "text": [
      "This is Zaid hussain\n"
     ]
    }
   ],
   "source": [
    "print(\"This is Zaid hussain\")"
   ]
  },
  {
   "cell_type": "code",
   "execution_count": 2,
   "id": "2d3aaac6",
   "metadata": {},
   "outputs": [],
   "source": [
    "#This is Zaid Hussain [Comment] "
   ]
  },
  {
   "cell_type": "code",
   "execution_count": 3,
   "id": "118eb35a",
   "metadata": {},
   "outputs": [
    {
     "data": {
      "text/plain": [
       "'This\\nis \\nzaid \\nhussain\\n'"
      ]
     },
     "execution_count": 3,
     "metadata": {},
     "output_type": "execute_result"
    }
   ],
   "source": [
    "\"\"\"This\n",
    "is \n",
    "zaid \n",
    "hussain\n",
    "\"\"\""
   ]
  },
  {
   "cell_type": "code",
   "execution_count": 4,
   "id": "fac176bf",
   "metadata": {},
   "outputs": [],
   "source": [
    "a=10"
   ]
  },
  {
   "cell_type": "code",
   "execution_count": 5,
   "id": "d131e02d",
   "metadata": {},
   "outputs": [
    {
     "data": {
      "text/plain": [
       "1"
      ]
     },
     "execution_count": 5,
     "metadata": {},
     "output_type": "execute_result"
    }
   ],
   "source": [
    "1"
   ]
  },
  {
   "cell_type": "code",
   "execution_count": 6,
   "id": "ead1f307",
   "metadata": {},
   "outputs": [
    {
     "data": {
      "text/plain": [
       "10"
      ]
     },
     "execution_count": 6,
     "metadata": {},
     "output_type": "execute_result"
    }
   ],
   "source": [
    "a"
   ]
  },
  {
   "cell_type": "code",
   "execution_count": 7,
   "id": "84f5aca0",
   "metadata": {},
   "outputs": [
    {
     "data": {
      "text/plain": [
       "int"
      ]
     },
     "execution_count": 7,
     "metadata": {},
     "output_type": "execute_result"
    }
   ],
   "source": [
    "type(a)"
   ]
  },
  {
   "cell_type": "code",
   "execution_count": 8,
   "id": "a628e0be",
   "metadata": {},
   "outputs": [],
   "source": [
    "b='zaid'"
   ]
  },
  {
   "cell_type": "code",
   "execution_count": 9,
   "id": "d1d9dea4",
   "metadata": {},
   "outputs": [
    {
     "data": {
      "text/plain": [
       "'zaid'"
      ]
     },
     "execution_count": 9,
     "metadata": {},
     "output_type": "execute_result"
    }
   ],
   "source": [
    "b\n"
   ]
  },
  {
   "cell_type": "code",
   "execution_count": 10,
   "id": "115cfc55",
   "metadata": {},
   "outputs": [
    {
     "data": {
      "text/plain": [
       "str"
      ]
     },
     "execution_count": 10,
     "metadata": {},
     "output_type": "execute_result"
    }
   ],
   "source": [
    "type(b)"
   ]
  },
  {
   "cell_type": "code",
   "execution_count": 11,
   "id": "f7b4def9",
   "metadata": {},
   "outputs": [
    {
     "name": "stdout",
     "output_type": "stream",
     "text": [
      "10 zaid\n"
     ]
    }
   ],
   "source": [
    "print(a,b)"
   ]
  },
  {
   "cell_type": "code",
   "execution_count": 12,
   "id": "668e268a",
   "metadata": {},
   "outputs": [],
   "source": [
    "a,b = 50,'Sameer'"
   ]
  },
  {
   "cell_type": "code",
   "execution_count": 13,
   "id": "c1461307",
   "metadata": {},
   "outputs": [
    {
     "name": "stdout",
     "output_type": "stream",
     "text": [
      "50 Sameer\n"
     ]
    }
   ],
   "source": [
    "print(a,b)"
   ]
  },
  {
   "cell_type": "code",
   "execution_count": 14,
   "id": "16c58094",
   "metadata": {},
   "outputs": [
    {
     "data": {
      "text/plain": [
       "50"
      ]
     },
     "execution_count": 14,
     "metadata": {},
     "output_type": "execute_result"
    }
   ],
   "source": [
    "a"
   ]
  },
  {
   "cell_type": "code",
   "execution_count": 16,
   "id": "8c4ac55a",
   "metadata": {},
   "outputs": [
    {
     "data": {
      "text/plain": [
       "int"
      ]
     },
     "execution_count": 16,
     "metadata": {},
     "output_type": "execute_result"
    }
   ],
   "source": [
    "type(a)"
   ]
  },
  {
   "cell_type": "code",
   "execution_count": 17,
   "id": "e7a5e5e4",
   "metadata": {},
   "outputs": [],
   "source": [
    "name=\"Zaid\"\n",
    "userid=\"J0\"\n",
    "password=\"djsdsk\"\n",
    "mail=\"zaid@gmail.com\"\n"
   ]
  },
  {
   "cell_type": "code",
   "execution_count": 18,
   "id": "1b2cdb06",
   "metadata": {},
   "outputs": [],
   "source": [
    "a=1.2333224242\n"
   ]
  },
  {
   "cell_type": "code",
   "execution_count": 19,
   "id": "734fe815",
   "metadata": {},
   "outputs": [
    {
     "data": {
      "text/plain": [
       "float"
      ]
     },
     "execution_count": 19,
     "metadata": {},
     "output_type": "execute_result"
    }
   ],
   "source": [
    "type(a)"
   ]
  },
  {
   "cell_type": "code",
   "execution_count": 21,
   "id": "62a0fd2f",
   "metadata": {},
   "outputs": [],
   "source": [
    "b = True\n",
    "c = False"
   ]
  },
  {
   "cell_type": "code",
   "execution_count": 22,
   "id": "d4d77f76",
   "metadata": {},
   "outputs": [
    {
     "data": {
      "text/plain": [
       "float"
      ]
     },
     "execution_count": 22,
     "metadata": {},
     "output_type": "execute_result"
    }
   ],
   "source": [
    "type(a)"
   ]
  },
  {
   "cell_type": "code",
   "execution_count": 23,
   "id": "0f7ad36f",
   "metadata": {},
   "outputs": [
    {
     "name": "stdout",
     "output_type": "stream",
     "text": [
      "4\n",
      "0\n"
     ]
    }
   ],
   "source": [
    "print(True + True + True +False+True)\n",
    "print(False- True+True)"
   ]
  },
  {
   "cell_type": "code",
   "execution_count": 24,
   "id": "8910f527",
   "metadata": {},
   "outputs": [],
   "source": [
    "n=45+60j"
   ]
  },
  {
   "cell_type": "code",
   "execution_count": 25,
   "id": "a7fbc75a",
   "metadata": {},
   "outputs": [
    {
     "data": {
      "text/plain": [
       "complex"
      ]
     },
     "execution_count": 25,
     "metadata": {},
     "output_type": "execute_result"
    }
   ],
   "source": [
    "type(n\n",
    "    )"
   ]
  },
  {
   "cell_type": "code",
   "execution_count": 26,
   "id": "f8627e93",
   "metadata": {},
   "outputs": [
    {
     "data": {
      "text/plain": [
       "45.0"
      ]
     },
     "execution_count": 26,
     "metadata": {},
     "output_type": "execute_result"
    }
   ],
   "source": [
    "n.real"
   ]
  },
  {
   "cell_type": "code",
   "execution_count": 27,
   "id": "12080e39",
   "metadata": {},
   "outputs": [
    {
     "data": {
      "text/plain": [
       "60.0"
      ]
     },
     "execution_count": 27,
     "metadata": {},
     "output_type": "execute_result"
    }
   ],
   "source": [
    "n.imag"
   ]
  },
  {
   "cell_type": "code",
   "execution_count": 28,
   "id": "32f3a458",
   "metadata": {},
   "outputs": [],
   "source": [
    "n=46+6j\n",
    "m=90+32j"
   ]
  },
  {
   "cell_type": "code",
   "execution_count": 29,
   "id": "105e267f",
   "metadata": {},
   "outputs": [
    {
     "name": "stdout",
     "output_type": "stream",
     "text": [
      "(3948+2012j)\n"
     ]
    }
   ],
   "source": [
    "print(n*m)"
   ]
  },
  {
   "cell_type": "code",
   "execution_count": 30,
   "id": "4a45c2f4",
   "metadata": {},
   "outputs": [
    {
     "ename": "TypeError",
     "evalue": "unsupported operand type(s) for +: 'int' and 'str'",
     "output_type": "error",
     "traceback": [
      "\u001b[1;31m---------------------------------------------------------------------------\u001b[0m",
      "\u001b[1;31mTypeError\u001b[0m                                 Traceback (most recent call last)",
      "Input \u001b[1;32mIn [30]\u001b[0m, in \u001b[0;36m<cell line: 1>\u001b[1;34m()\u001b[0m\n\u001b[1;32m----> 1\u001b[0m \u001b[38;5;241;43m1\u001b[39;49m\u001b[38;5;241;43m+\u001b[39;49m\u001b[38;5;124;43m\"\u001b[39;49m\u001b[38;5;124;43mZaid\u001b[39;49m\u001b[38;5;124;43m\"\u001b[39;49m\n",
      "\u001b[1;31mTypeError\u001b[0m: unsupported operand type(s) for +: 'int' and 'str'"
     ]
    }
   ],
   "source": [
    "1+\"Zaid\""
   ]
  },
  {
   "cell_type": "code",
   "execution_count": 31,
   "id": "cc099907",
   "metadata": {},
   "outputs": [
    {
     "data": {
      "text/plain": [
       "'1Zaid'"
      ]
     },
     "execution_count": 31,
     "metadata": {},
     "output_type": "execute_result"
    }
   ],
   "source": [
    "\"1\"+\"Zaid\""
   ]
  },
  {
   "cell_type": "code",
   "execution_count": 32,
   "id": "3353e317",
   "metadata": {},
   "outputs": [
    {
     "data": {
      "text/plain": [
       "2.0"
      ]
     },
     "execution_count": 32,
     "metadata": {},
     "output_type": "execute_result"
    }
   ],
   "source": [
    "1+1.0"
   ]
  },
  {
   "cell_type": "code",
   "execution_count": 33,
   "id": "92191886",
   "metadata": {},
   "outputs": [
    {
     "data": {
      "text/plain": [
       "'ZaidZaidZaid'"
      ]
     },
     "execution_count": 33,
     "metadata": {},
     "output_type": "execute_result"
    }
   ],
   "source": [
    "\"Zaid\"+\"Zaid\"+\"Zaid\""
   ]
  },
  {
   "cell_type": "code",
   "execution_count": 34,
   "id": "ebbb98c4",
   "metadata": {},
   "outputs": [
    {
     "data": {
      "text/plain": [
       "'ZaidZaidZaid'"
      ]
     },
     "execution_count": 34,
     "metadata": {},
     "output_type": "execute_result"
    }
   ],
   "source": [
    "\"Zaid\"*3"
   ]
  },
  {
   "cell_type": "code",
   "execution_count": 51,
   "id": "9e49c1e2",
   "metadata": {},
   "outputs": [
    {
     "name": "stdout",
     "output_type": "stream",
     "text": [
      "enter a number 100\n"
     ]
    }
   ],
   "source": [
    "a = int(input(\"enter a number \"))"
   ]
  },
  {
   "cell_type": "code",
   "execution_count": 52,
   "id": "cddc35bf",
   "metadata": {},
   "outputs": [
    {
     "name": "stdout",
     "output_type": "stream",
     "text": [
      "enter a number 200\n"
     ]
    }
   ],
   "source": [
    "b=int(input(\"enter a number \"))"
   ]
  },
  {
   "cell_type": "code",
   "execution_count": 53,
   "id": "2f85c8ca",
   "metadata": {},
   "outputs": [
    {
     "name": "stdout",
     "output_type": "stream",
     "text": [
      "enter a integer  500\n"
     ]
    }
   ],
   "source": [
    "c=int(input(\"enter a integer  \"))"
   ]
  },
  {
   "cell_type": "code",
   "execution_count": 55,
   "id": "a5f15cbb",
   "metadata": {},
   "outputs": [],
   "source": [
    "o = a+b/c"
   ]
  },
  {
   "cell_type": "code",
   "execution_count": 56,
   "id": "6e7ea78a",
   "metadata": {},
   "outputs": [
    {
     "data": {
      "text/plain": [
       "100.4"
      ]
     },
     "execution_count": 56,
     "metadata": {},
     "output_type": "execute_result"
    }
   ],
   "source": [
    "o"
   ]
  },
  {
   "cell_type": "code",
   "execution_count": 57,
   "id": "18a984e9",
   "metadata": {},
   "outputs": [],
   "source": [
    "o1=o+10+9j\n"
   ]
  },
  {
   "cell_type": "code",
   "execution_count": 58,
   "id": "eb9ac72b",
   "metadata": {},
   "outputs": [
    {
     "data": {
      "text/plain": [
       "'(110.4+9j)Zaid'"
      ]
     },
     "execution_count": 58,
     "metadata": {},
     "output_type": "execute_result"
    }
   ],
   "source": [
    "str(o1)+\"Zaid\""
   ]
  },
  {
   "cell_type": "code",
   "execution_count": 59,
   "id": "bc3cb18a",
   "metadata": {},
   "outputs": [
    {
     "name": "stdout",
     "output_type": "stream",
     "text": [
      "enter a number 40\n",
      "a is less than 50\n"
     ]
    }
   ],
   "source": [
    "a = int(input(\"enter a number \"))\n",
    "if a<50:\n",
    "    print(\"a is less than 50\")"
   ]
  },
  {
   "cell_type": "code",
   "execution_count": 61,
   "id": "ecfeda95",
   "metadata": {},
   "outputs": [
    {
     "name": "stdout",
     "output_type": "stream",
     "text": [
      "enter a number 100\n",
      "a is not less than 50\n"
     ]
    }
   ],
   "source": [
    "a = int(input(\"enter a number \"))\n",
    "if a<50:\n",
    "    print(\"a is less than 50\")\n",
    "else:\n",
    "    print(\"a is not less than 50\")"
   ]
  },
  {
   "cell_type": "code",
   "execution_count": 62,
   "id": "1aebf4d8",
   "metadata": {},
   "outputs": [
    {
     "name": "stdout",
     "output_type": "stream",
     "text": [
      "enter a number 51\n",
      "a is less then 60 \n"
     ]
    }
   ],
   "source": [
    "a = int(input(\"enter a number \"))\n",
    "if a<50:\n",
    "    print(\"a is less than 50\")\n",
    "elif a<60:\n",
    "    print(\"a is less then 60 \")\n",
    "else:\n",
    "    print(\"a is not less than 50\")"
   ]
  },
  {
   "cell_type": "code",
   "execution_count": 64,
   "id": "ce2b4a65",
   "metadata": {},
   "outputs": [
    {
     "name": "stdout",
     "output_type": "stream",
     "text": [
      "enter a number 400\n",
      "i will not buy anything\n"
     ]
    }
   ],
   "source": [
    "salary = int(input(\"enter a number \"))\n",
    "if salary>1000 :\n",
    "    print(\"i can buy a car\")\n",
    "elif salary>500:\n",
    "    print(\"i can buy a bike\")\n",
    "else :\n",
    "    print(\"i will not buy anything\")"
   ]
  },
  {
   "cell_type": "code",
   "execution_count": 4,
   "id": "0921dfb1",
   "metadata": {},
   "outputs": [
    {
     "name": "stdout",
     "output_type": "stream",
     "text": [
      "enter a number 10000\n",
      "i can buy a car\n",
      "i will buy a nano\n",
      "False code\n"
     ]
    }
   ],
   "source": [
    "salary = int(input(\"enter a number \"))\n",
    "if salary>1000 :\n",
    "    print(\"i can buy a car\")\n",
    "    if salary>5000:\n",
    "        print(\"i will buy a nano\")\n",
    "        if True:\n",
    "            print(\"False code\")\n",
    "    elif salary>1000:\n",
    "            print(\"i will buy a maruti\")\n",
    "    elif salary>500:\n",
    "        print(\"i can buy a bike\")\n",
    "else :\n",
    "    print(\"i will not buy anything\")"
   ]
  },
  {
   "cell_type": "code",
   "execution_count": 7,
   "id": "c3b76685",
   "metadata": {},
   "outputs": [
    {
     "name": "stdout",
     "output_type": "stream",
     "text": [
      "2725943181840\n"
     ]
    }
   ],
   "source": [
    "a=10\n",
    "b=10\n",
    "print(id(a))"
   ]
  },
  {
   "cell_type": "code",
   "execution_count": 8,
   "id": "ab6c0ee8",
   "metadata": {},
   "outputs": [
    {
     "name": "stdout",
     "output_type": "stream",
     "text": [
      "2725943181840\n"
     ]
    }
   ],
   "source": [
    "print(id(b))"
   ]
  },
  {
   "cell_type": "code",
   "execution_count": 9,
   "id": "58a0e6ec",
   "metadata": {},
   "outputs": [
    {
     "name": "stdout",
     "output_type": "stream",
     "text": [
      "valid statement\n"
     ]
    }
   ],
   "source": [
    "a=10\n",
    "b=20\n",
    "if(a==10 and b==20):\n",
    "    print(\"valid statement\")\n",
    "    "
   ]
  },
  {
   "cell_type": "code",
   "execution_count": 10,
   "id": "04e208d4",
   "metadata": {},
   "outputs": [
    {
     "data": {
      "text/plain": [
       "True"
      ]
     },
     "execution_count": 10,
     "metadata": {},
     "output_type": "execute_result"
    }
   ],
   "source": [
    "a==10 and b==20"
   ]
  },
  {
   "cell_type": "code",
   "execution_count": 17,
   "id": "18ba922b",
   "metadata": {},
   "outputs": [
    {
     "name": "stdout",
     "output_type": "stream",
     "text": [
      "this statement is valid inside elif\n"
     ]
    }
   ],
   "source": [
    "#AND Condition\n",
    "a=10\n",
    "b=20\n",
    "if(a==10 and b>20):\n",
    "    print(\"valid statement\")\n",
    "elif a==10 and b<=20:\n",
    "    print(\"this statement is valid inside elif\")\n",
    "else :\n",
    "        print(\"not valid statement\")"
   ]
  },
  {
   "cell_type": "code",
   "execution_count": 18,
   "id": "54ce1bfa",
   "metadata": {},
   "outputs": [
    {
     "name": "stdout",
     "output_type": "stream",
     "text": [
      "valid statement\n"
     ]
    }
   ],
   "source": [
    "#OR Condition\n",
    "a=10\n",
    "b=20\n",
    "if(a==10 or b>20):\n",
    "    print(\"valid statement\")\n",
    "elif a==10 and b<=20:\n",
    "    print(\"this statement is valid inside elif\")\n",
    "else :\n",
    "        print(\"not valid statement\")"
   ]
  },
  {
   "cell_type": "code",
   "execution_count": 23,
   "id": "8475b284",
   "metadata": {},
   "outputs": [
    {
     "name": "stdout",
     "output_type": "stream",
     "text": [
      "first name :zaid\n",
      "Last name :hussain\n"
     ]
    }
   ],
   "source": [
    "firstname = input(\"first name :\")\n",
    "Lastname = input(\"Last name :\")\n",
    "if(firstname==\"Zaid\" and Lastname==\"Hussain\"):\n",
    "    print(\"name is correct\")"
   ]
  },
  {
   "cell_type": "code",
   "execution_count": 24,
   "id": "db534a07",
   "metadata": {},
   "outputs": [
    {
     "name": "stdout",
     "output_type": "stream",
     "text": [
      "this is my speed\n",
      "this is my speed\n",
      "this is my speed\n",
      "this is my speed\n"
     ]
    }
   ],
   "source": [
    "initial_speed= 0 \n",
    "final_speed = 100\n",
    "count=1\n",
    "while initial_speed <=final_speed:\n",
    "    print(\"this is my speed\")\n",
    "    count=count+1\n",
    "    if count==5:\n",
    "        break\n",
    "    "
   ]
  },
  {
   "cell_type": "code",
   "execution_count": null,
   "id": "b8fa08eb",
   "metadata": {},
   "outputs": [],
   "source": [
    "i=1\n",
    "j=5\n",
    "while i>j:\n",
    "    print(i)\n",
    "    i=i+1"
   ]
  },
  {
   "cell_type": "code",
   "execution_count": 2,
   "id": "b014293a",
   "metadata": {},
   "outputs": [
    {
     "name": "stdout",
     "output_type": "stream",
     "text": [
      "1\n",
      "2\n",
      "3\n",
      "4\n",
      "no 10 rs n are available\n"
     ]
    }
   ],
   "source": [
    "n=5\n",
    "i=1\n",
    "while i<n:\n",
    "    print(i)\n",
    "    i+=1\n",
    "else:\n",
    "    print(\"no 10 rs n are available\")"
   ]
  },
  {
   "cell_type": "code",
   "execution_count": 3,
   "id": "4aa10a41",
   "metadata": {},
   "outputs": [],
   "source": [
    "s=\"zaid\""
   ]
  },
  {
   "cell_type": "code",
   "execution_count": 4,
   "id": "9c661733",
   "metadata": {},
   "outputs": [
    {
     "data": {
      "text/plain": [
       "'zaid'"
      ]
     },
     "execution_count": 4,
     "metadata": {},
     "output_type": "execute_result"
    }
   ],
   "source": [
    "s"
   ]
  },
  {
   "cell_type": "code",
   "execution_count": 6,
   "id": "c6b7fc0b",
   "metadata": {},
   "outputs": [
    {
     "data": {
      "text/plain": [
       "'d'"
      ]
     },
     "execution_count": 6,
     "metadata": {},
     "output_type": "execute_result"
    }
   ],
   "source": [
    "s[3]"
   ]
  },
  {
   "cell_type": "code",
   "execution_count": 7,
   "id": "e1132915",
   "metadata": {},
   "outputs": [],
   "source": [
    "z=\"My name is zaid\"\n"
   ]
  },
  {
   "cell_type": "code",
   "execution_count": 8,
   "id": "52cdc8e9",
   "metadata": {},
   "outputs": [
    {
     "data": {
      "text/plain": [
       "' name i'"
      ]
     },
     "execution_count": 8,
     "metadata": {},
     "output_type": "execute_result"
    }
   ],
   "source": [
    "z[2:9]"
   ]
  },
  {
   "cell_type": "code",
   "execution_count": 11,
   "id": "fe962722",
   "metadata": {},
   "outputs": [
    {
     "data": {
      "text/plain": [
       "''"
      ]
     },
     "execution_count": 11,
     "metadata": {},
     "output_type": "execute_result"
    }
   ],
   "source": [
    "z[3:10:-1]"
   ]
  },
  {
   "cell_type": "code",
   "execution_count": 13,
   "id": "60f5f77a",
   "metadata": {},
   "outputs": [
    {
     "name": "stdout",
     "output_type": "stream",
     "text": [
      "M\n",
      "y\n",
      " \n",
      "n\n",
      "a\n",
      "m\n",
      "e\n",
      " \n",
      "i\n",
      "s\n",
      " \n",
      "z\n",
      "a\n",
      "i\n",
      "d\n"
     ]
    }
   ],
   "source": [
    "for i in z:\n",
    "    print(i)"
   ]
  },
  {
   "cell_type": "code",
   "execution_count": 14,
   "id": "49846ad7",
   "metadata": {},
   "outputs": [
    {
     "name": "stdout",
     "output_type": "stream",
     "text": [
      "M\n",
      "y\n",
      " \n",
      "n\n",
      "a\n",
      "m\n",
      "e\n",
      " \n",
      "i\n",
      "s\n",
      " \n",
      "z\n",
      "a\n",
      "i\n",
      "d\n",
      "d is last\n"
     ]
    }
   ],
   "source": [
    "for i in z:\n",
    "    print(i)\n",
    "else:\n",
    "    if i==\"d\":\n",
    "        print(\"d is last\")"
   ]
  },
  {
   "cell_type": "code",
   "execution_count": 16,
   "id": "ce2f1651",
   "metadata": {},
   "outputs": [
    {
     "name": "stdout",
     "output_type": "stream",
     "text": [
      "M\n",
      "y\n",
      " \n"
     ]
    }
   ],
   "source": [
    "for i in z:\n",
    "    if i==\"n\":\n",
    "        break\n",
    "    print(i)\n",
    "else:\n",
    "    if i==\"d\":\n",
    "        print(\"d is last\")"
   ]
  },
  {
   "cell_type": "code",
   "execution_count": 1,
   "id": "d5408537",
   "metadata": {},
   "outputs": [],
   "source": [
    "#String datatype\n",
    "a=\"This is zaid's laptop\""
   ]
  },
  {
   "cell_type": "code",
   "execution_count": 2,
   "id": "4b0e78aa",
   "metadata": {},
   "outputs": [
    {
     "data": {
      "text/plain": [
       "\"This is zaid's laptop\""
      ]
     },
     "execution_count": 2,
     "metadata": {},
     "output_type": "execute_result"
    }
   ],
   "source": [
    "a\n"
   ]
  },
  {
   "cell_type": "code",
   "execution_count": 3,
   "id": "620b5d43",
   "metadata": {},
   "outputs": [
    {
     "ename": "SyntaxError",
     "evalue": "unterminated string literal (detected at line 1) (1697983072.py, line 1)",
     "output_type": "error",
     "traceback": [
      "\u001b[1;36m  Input \u001b[1;32mIn [3]\u001b[1;36m\u001b[0m\n\u001b[1;33m    b=\"This is zaid\"s laptop\"\u001b[0m\n\u001b[1;37m                            ^\u001b[0m\n\u001b[1;31mSyntaxError\u001b[0m\u001b[1;31m:\u001b[0m unterminated string literal (detected at line 1)\n"
     ]
    }
   ],
   "source": [
    "b=\"This is zaid\"s laptop\""
   ]
  },
  {
   "cell_type": "code",
   "execution_count": 4,
   "id": "6e293da1",
   "metadata": {},
   "outputs": [
    {
     "data": {
      "text/plain": [
       "'T'"
      ]
     },
     "execution_count": 4,
     "metadata": {},
     "output_type": "execute_result"
    }
   ],
   "source": [
    "a[0]"
   ]
  },
  {
   "cell_type": "code",
   "execution_count": 5,
   "id": "4d9b88dd",
   "metadata": {},
   "outputs": [
    {
     "data": {
      "text/plain": [
       "'p'"
      ]
     },
     "execution_count": 5,
     "metadata": {},
     "output_type": "execute_result"
    }
   ],
   "source": [
    "a[-1]"
   ]
  },
  {
   "cell_type": "code",
   "execution_count": 6,
   "id": "ac0c9de0",
   "metadata": {},
   "outputs": [
    {
     "data": {
      "text/plain": [
       "21"
      ]
     },
     "execution_count": 6,
     "metadata": {},
     "output_type": "execute_result"
    }
   ],
   "source": [
    "len(a)"
   ]
  },
  {
   "cell_type": "code",
   "execution_count": 7,
   "id": "51c72d9f",
   "metadata": {},
   "outputs": [
    {
     "ename": "IndexError",
     "evalue": "string index out of range",
     "output_type": "error",
     "traceback": [
      "\u001b[1;31m---------------------------------------------------------------------------\u001b[0m",
      "\u001b[1;31mIndexError\u001b[0m                                Traceback (most recent call last)",
      "Input \u001b[1;32mIn [7]\u001b[0m, in \u001b[0;36m<cell line: 1>\u001b[1;34m()\u001b[0m\n\u001b[1;32m----> 1\u001b[0m \u001b[43ma\u001b[49m\u001b[43m[\u001b[49m\u001b[38;5;241;43m50\u001b[39;49m\u001b[43m]\u001b[49m\n",
      "\u001b[1;31mIndexError\u001b[0m: string index out of range"
     ]
    }
   ],
   "source": [
    "a[50]"
   ]
  },
  {
   "cell_type": "code",
   "execution_count": 8,
   "id": "1df3aa8b",
   "metadata": {},
   "outputs": [
    {
     "data": {
      "text/plain": [
       "\"s zaid's \""
      ]
     },
     "execution_count": 8,
     "metadata": {},
     "output_type": "execute_result"
    }
   ],
   "source": [
    "a[6:15]"
   ]
  },
  {
   "cell_type": "code",
   "execution_count": 11,
   "id": "c787e14e",
   "metadata": {},
   "outputs": [
    {
     "data": {
      "text/plain": [
       "'pls'"
      ]
     },
     "execution_count": 11,
     "metadata": {},
     "output_type": "execute_result"
    }
   ],
   "source": [
    "a[-4:-9:-2]"
   ]
  },
  {
   "cell_type": "code",
   "execution_count": 13,
   "id": "f490fcf1",
   "metadata": {},
   "outputs": [
    {
     "name": "stdout",
     "output_type": "stream",
     "text": [
      "T\n",
      "h\n",
      "i\n",
      "s\n",
      " \n",
      "i\n",
      "s\n",
      " \n",
      "z\n",
      "a\n",
      "i\n",
      "d\n",
      "'\n",
      "s\n",
      " \n",
      "l\n",
      "a\n",
      "p\n",
      "t\n",
      "o\n",
      "p\n"
     ]
    }
   ],
   "source": [
    "for i in a:\n",
    "    print(i)"
   ]
  },
  {
   "cell_type": "code",
   "execution_count": 14,
   "id": "b7d7a0dd",
   "metadata": {},
   "outputs": [
    {
     "data": {
      "text/plain": [
       "\"potpal s'diaz si sihT\""
      ]
     },
     "execution_count": 14,
     "metadata": {},
     "output_type": "execute_result"
    }
   ],
   "source": [
    "a[::-1]"
   ]
  },
  {
   "cell_type": "code",
   "execution_count": 15,
   "id": "3046f401",
   "metadata": {},
   "outputs": [
    {
     "data": {
      "text/plain": [
       "'ZaidHussain'"
      ]
     },
     "execution_count": 15,
     "metadata": {},
     "output_type": "execute_result"
    }
   ],
   "source": [
    "\"Zaid\" + \"Hussain\""
   ]
  },
  {
   "cell_type": "code",
   "execution_count": 19,
   "id": "acd02524",
   "metadata": {},
   "outputs": [
    {
     "data": {
      "text/plain": [
       "'Zaid7'"
      ]
     },
     "execution_count": 19,
     "metadata": {},
     "output_type": "execute_result"
    }
   ],
   "source": [
    "\"Zaid\" + str(7)"
   ]
  },
  {
   "cell_type": "code",
   "execution_count": 20,
   "id": "ce82c418",
   "metadata": {},
   "outputs": [
    {
     "data": {
      "text/plain": [
       "'ZaidZaidZaidZaidZaidZaidZaidZaidZaidZaid'"
      ]
     },
     "execution_count": 20,
     "metadata": {},
     "output_type": "execute_result"
    }
   ],
   "source": [
    "\"Zaid\" *10"
   ]
  },
  {
   "cell_type": "code",
   "execution_count": 21,
   "id": "2fa093f5",
   "metadata": {},
   "outputs": [
    {
     "data": {
      "text/plain": [
       "8"
      ]
     },
     "execution_count": 21,
     "metadata": {},
     "output_type": "execute_result"
    }
   ],
   "source": [
    "a.find(\"z\")"
   ]
  },
  {
   "cell_type": "code",
   "execution_count": 2,
   "id": "0bab1117",
   "metadata": {},
   "outputs": [],
   "source": [
    "s=\"My name is name\""
   ]
  },
  {
   "cell_type": "code",
   "execution_count": 3,
   "id": "58616deb",
   "metadata": {},
   "outputs": [
    {
     "name": "stdout",
     "output_type": "stream",
     "text": [
      "3\n",
      "4\n",
      "5\n",
      "6\n"
     ]
    }
   ],
   "source": [
    "b=s.find(\"name\")\n",
    "for i in range(len(\"name\")):\n",
    "    print(b+i)"
   ]
  },
  {
   "cell_type": "code",
   "execution_count": 4,
   "id": "679da680",
   "metadata": {},
   "outputs": [
    {
     "data": {
      "text/plain": [
       "['My', 'name', 'is', 'name']"
      ]
     },
     "execution_count": 4,
     "metadata": {},
     "output_type": "execute_result"
    }
   ],
   "source": [
    "s.split()"
   ]
  },
  {
   "cell_type": "code",
   "execution_count": 5,
   "id": "5d27b98d",
   "metadata": {},
   "outputs": [
    {
     "data": {
      "text/plain": [
       "['My name is name']"
      ]
     },
     "execution_count": 5,
     "metadata": {},
     "output_type": "execute_result"
    }
   ],
   "source": [
    "s.split(',')"
   ]
  },
  {
   "cell_type": "code",
   "execution_count": 6,
   "id": "ec1b0f7e",
   "metadata": {},
   "outputs": [
    {
     "data": {
      "text/plain": [
       "['My name ', 's name']"
      ]
     },
     "execution_count": 6,
     "metadata": {},
     "output_type": "execute_result"
    }
   ],
   "source": [
    "s.split('i')"
   ]
  },
  {
   "cell_type": "code",
   "execution_count": 7,
   "id": "68c3bd39",
   "metadata": {},
   "outputs": [
    {
     "data": {
      "text/plain": [
       "'MY NAME IS NAME'"
      ]
     },
     "execution_count": 7,
     "metadata": {},
     "output_type": "execute_result"
    }
   ],
   "source": [
    "s.upper()"
   ]
  },
  {
   "cell_type": "code",
   "execution_count": 8,
   "id": "ab98a7d7",
   "metadata": {},
   "outputs": [
    {
     "data": {
      "text/plain": [
       "'my name is name'"
      ]
     },
     "execution_count": 8,
     "metadata": {},
     "output_type": "execute_result"
    }
   ],
   "source": [
    "s.lower()"
   ]
  },
  {
   "cell_type": "code",
   "execution_count": 9,
   "id": "7a6f9185",
   "metadata": {},
   "outputs": [
    {
     "data": {
      "text/plain": [
       "'mY NAME IS NAME'"
      ]
     },
     "execution_count": 9,
     "metadata": {},
     "output_type": "execute_result"
    }
   ],
   "source": [
    "s.swapcase()"
   ]
  },
  {
   "cell_type": "code",
   "execution_count": 10,
   "id": "f8d07974",
   "metadata": {},
   "outputs": [
    {
     "data": {
      "text/plain": [
       "'My name is name'"
      ]
     },
     "execution_count": 10,
     "metadata": {},
     "output_type": "execute_result"
    }
   ],
   "source": [
    "s"
   ]
  },
  {
   "cell_type": "code",
   "execution_count": 11,
   "id": "7d0dd12d",
   "metadata": {},
   "outputs": [
    {
     "data": {
      "text/plain": [
       "'M y   n a m e   i s   n a m e'"
      ]
     },
     "execution_count": 11,
     "metadata": {},
     "output_type": "execute_result"
    }
   ],
   "source": [
    "\" \".join(s)"
   ]
  },
  {
   "cell_type": "code",
   "execution_count": 12,
   "id": "983dee73",
   "metadata": {},
   "outputs": [
    {
     "data": {
      "text/plain": [
       "'M 0 y 0   0 n 0 a 0 m 0 e 0   0 i 0 s 0   0 n 0 a 0 m 0 e'"
      ]
     },
     "execution_count": 12,
     "metadata": {},
     "output_type": "execute_result"
    }
   ],
   "source": [
    "\" 0 \".join(s)"
   ]
  },
  {
   "cell_type": "code",
   "execution_count": 14,
   "id": "1d9ed889",
   "metadata": {},
   "outputs": [
    {
     "data": {
      "text/plain": [
       "['e', 'm', 'a', 'n', ' ', 's', 'i', ' ', 'e', 'm', 'a', 'n', ' ', 'y', 'M']"
      ]
     },
     "execution_count": 14,
     "metadata": {},
     "output_type": "execute_result"
    }
   ],
   "source": [
    "list(reversed(s))"
   ]
  },
  {
   "cell_type": "code",
   "execution_count": 16,
   "id": "5f328e1f",
   "metadata": {},
   "outputs": [
    {
     "name": "stdout",
     "output_type": "stream",
     "text": [
      "e\n",
      "m\n",
      "a\n",
      "n\n",
      " \n",
      "s\n",
      "i\n",
      " \n",
      "e\n",
      "m\n",
      "a\n",
      "n\n",
      " \n",
      "y\n",
      "M\n"
     ]
    }
   ],
   "source": [
    "for i in reversed(s):\n",
    "    print(i)"
   ]
  },
  {
   "cell_type": "code",
   "execution_count": 17,
   "id": "1568ffd7",
   "metadata": {},
   "outputs": [
    {
     "data": {
      "text/plain": [
       "'eman si eman yM'"
      ]
     },
     "execution_count": 17,
     "metadata": {},
     "output_type": "execute_result"
    }
   ],
   "source": [
    "s[::-1]"
   ]
  },
  {
   "cell_type": "code",
   "execution_count": 18,
   "id": "f0c00a7c",
   "metadata": {},
   "outputs": [],
   "source": [
    "s=\"         Zaid\""
   ]
  },
  {
   "cell_type": "code",
   "execution_count": 19,
   "id": "cfad4d76",
   "metadata": {},
   "outputs": [
    {
     "data": {
      "text/plain": [
       "'Zaid'"
      ]
     },
     "execution_count": 19,
     "metadata": {},
     "output_type": "execute_result"
    }
   ],
   "source": [
    "s.strip()"
   ]
  },
  {
   "cell_type": "code",
   "execution_count": 20,
   "id": "ec15b203",
   "metadata": {},
   "outputs": [
    {
     "data": {
      "text/plain": [
       "'Zaid'"
      ]
     },
     "execution_count": 20,
     "metadata": {},
     "output_type": "execute_result"
    }
   ],
   "source": [
    "s.lstrip()"
   ]
  },
  {
   "cell_type": "code",
   "execution_count": 26,
   "id": "ee07a30c",
   "metadata": {},
   "outputs": [
    {
     "data": {
      "text/plain": [
       "'         aaid'"
      ]
     },
     "execution_count": 26,
     "metadata": {},
     "output_type": "execute_result"
    }
   ],
   "source": [
    "s.replace(\"Z\",'a')"
   ]
  },
  {
   "cell_type": "code",
   "execution_count": 27,
   "id": "4a0a269d",
   "metadata": {},
   "outputs": [],
   "source": [
    "a=\"zaid\""
   ]
  },
  {
   "cell_type": "code",
   "execution_count": 28,
   "id": "4e430025",
   "metadata": {},
   "outputs": [
    {
     "data": {
      "text/plain": [
       "'@zaid@'"
      ]
     },
     "execution_count": 28,
     "metadata": {},
     "output_type": "execute_result"
    }
   ],
   "source": [
    "a.center(6,'@')"
   ]
  },
  {
   "cell_type": "code",
   "execution_count": 29,
   "id": "0b0759f5",
   "metadata": {},
   "outputs": [],
   "source": [
    "z=\"Zaid\\tHussain\""
   ]
  },
  {
   "cell_type": "code",
   "execution_count": 30,
   "id": "34942792",
   "metadata": {},
   "outputs": [
    {
     "data": {
      "text/plain": [
       "'Zaid    Hussain'"
      ]
     },
     "execution_count": 30,
     "metadata": {},
     "output_type": "execute_result"
    }
   ],
   "source": [
    "z.expandtabs()"
   ]
  },
  {
   "cell_type": "code",
   "execution_count": 31,
   "id": "2292f7d7",
   "metadata": {},
   "outputs": [],
   "source": [
    "\n",
    "b=\"we are a part of full stack\""
   ]
  },
  {
   "cell_type": "code",
   "execution_count": 32,
   "id": "6fdbd7dc",
   "metadata": {},
   "outputs": [
    {
     "data": {
      "text/plain": [
       "'we are a part of full stack'"
      ]
     },
     "execution_count": 32,
     "metadata": {},
     "output_type": "execute_result"
    }
   ],
   "source": [
    "# 1.Normalizing entire string in lower case\n",
    "b.lower()"
   ]
  },
  {
   "cell_type": "code",
   "execution_count": 33,
   "id": "8b1cc84d",
   "metadata": {},
   "outputs": [
    {
     "data": {
      "text/plain": [
       "3"
      ]
     },
     "execution_count": 33,
     "metadata": {},
     "output_type": "execute_result"
    }
   ],
   "source": [
    "# 2.finding number of occurances of \"a\" in entire string\n",
    "b.find(\"a\")"
   ]
  },
  {
   "cell_type": "code",
   "execution_count": 34,
   "id": "0c1303fa",
   "metadata": {},
   "outputs": [
    {
     "data": {
      "text/plain": [
       "'we ineuronre ineuron pineuronrt of full stineuronck'"
      ]
     },
     "execution_count": 34,
     "metadata": {},
     "output_type": "execute_result"
    }
   ],
   "source": [
    "#4.replace all a's with ineuron\n",
    "b.replace(\"a\",'ineuron')"
   ]
  },
  {
   "cell_type": "code",
   "execution_count": 36,
   "id": "6d47cd3d",
   "metadata": {},
   "outputs": [
    {
     "data": {
      "text/plain": [
       "['we', 'are', 'a', 'part', 'of', 'full', 'stack']"
      ]
     },
     "execution_count": 36,
     "metadata": {},
     "output_type": "execute_result"
    }
   ],
   "source": [
    "#5. print all the words as a list\n",
    "b.split()"
   ]
  },
  {
   "cell_type": "code",
   "execution_count": 43,
   "id": "0a284b4a",
   "metadata": {},
   "outputs": [
    {
     "name": "stdout",
     "output_type": "stream",
     "text": [
      "3\n",
      "7\n",
      "10\n",
      "24\n"
     ]
    }
   ],
   "source": [
    "# 3.FInd all the location/indexes of \"a\" in the string\n",
    "for i in range(len(b)):\n",
    "    if b[i]==\"a\":\n",
    "        print(i)"
   ]
  },
  {
   "cell_type": "code",
   "execution_count": 47,
   "id": "05dbe48c",
   "metadata": {},
   "outputs": [
    {
     "name": "stdout",
     "output_type": "stream",
     "text": [
      "we are a part of full stack\n",
      "3\n",
      "3\n",
      "7\n",
      "10\n",
      "24\n",
      "we ineuronre ineuron pineuronrt of full stineuronck\n"
     ]
    },
    {
     "data": {
      "text/plain": [
       "['we', 'are', 'a', 'part', 'of', 'full', 'stack']"
      ]
     },
     "execution_count": 47,
     "metadata": {},
     "output_type": "execute_result"
    }
   ],
   "source": [
    "b=\"we are a part of full stack\"\n",
    "# 1.Normalizing entire string in lower case\n",
    "print(b.lower())\n",
    "# 2.finding number of occurances of \"a\" in entire string\n",
    "print(b.find(\"a\"))\n",
    "# 3.FInd all the location/indexes of \"a\" in the string\n",
    "for i in range(len(b)):\n",
    "    if b[i]==\"a\":\n",
    "        print(i)\n",
    "#4.replace all a's with ineuron\n",
    "print(b.replace(\"a\",'ineuron'))\n",
    "#5. print all the words as a list\n",
    "b.split()\n"
   ]
  },
  {
   "cell_type": "code",
   "execution_count": 48,
   "id": "ae76a785",
   "metadata": {},
   "outputs": [
    {
     "data": {
      "text/plain": [
       "<function str.isdigit()>"
      ]
     },
     "execution_count": 48,
     "metadata": {},
     "output_type": "execute_result"
    }
   ],
   "source": [
    "s.isdigit"
   ]
  },
  {
   "cell_type": "code",
   "execution_count": 50,
   "id": "814325e0",
   "metadata": {},
   "outputs": [],
   "source": [
    "z=\"zaid hussain\""
   ]
  },
  {
   "cell_type": "code",
   "execution_count": 51,
   "id": "20675c5d",
   "metadata": {},
   "outputs": [
    {
     "data": {
      "text/plain": [
       "False"
      ]
     },
     "execution_count": 51,
     "metadata": {},
     "output_type": "execute_result"
    }
   ],
   "source": [
    "z.isupper()"
   ]
  },
  {
   "cell_type": "code",
   "execution_count": 52,
   "id": "4c99b70f",
   "metadata": {},
   "outputs": [
    {
     "data": {
      "text/plain": [
       "True"
      ]
     },
     "execution_count": 52,
     "metadata": {},
     "output_type": "execute_result"
    }
   ],
   "source": [
    "z.islower()"
   ]
  },
  {
   "cell_type": "code",
   "execution_count": 53,
   "id": "d11f7f51",
   "metadata": {},
   "outputs": [
    {
     "data": {
      "text/plain": [
       "False"
      ]
     },
     "execution_count": 53,
     "metadata": {},
     "output_type": "execute_result"
    }
   ],
   "source": [
    "z.isspace()"
   ]
  },
  {
   "cell_type": "code",
   "execution_count": 55,
   "id": "35c54b09",
   "metadata": {},
   "outputs": [
    {
     "data": {
      "text/plain": [
       "<function str.isdigit()>"
      ]
     },
     "execution_count": 55,
     "metadata": {},
     "output_type": "execute_result"
    }
   ],
   "source": [
    "x=\"1234\"\n",
    "x.isdigit"
   ]
  },
  {
   "cell_type": "code",
   "execution_count": 56,
   "id": "c0995ce4",
   "metadata": {},
   "outputs": [
    {
     "data": {
      "text/plain": [
       "True"
      ]
     },
     "execution_count": 56,
     "metadata": {},
     "output_type": "execute_result"
    }
   ],
   "source": [
    "z.endswith('n')"
   ]
  },
  {
   "cell_type": "code",
   "execution_count": 58,
   "id": "12511bf6",
   "metadata": {},
   "outputs": [
    {
     "data": {
      "text/plain": [
       "False"
      ]
     },
     "execution_count": 58,
     "metadata": {},
     "output_type": "execute_result"
    }
   ],
   "source": [
    "z.startswith('n')"
   ]
  },
  {
   "cell_type": "code",
   "execution_count": 60,
   "id": "d784200f",
   "metadata": {},
   "outputs": [
    {
     "name": "stdout",
     "output_type": "stream",
     "text": [
      "d\n",
      "i\n",
      "a\n",
      "z\n"
     ]
    }
   ],
   "source": [
    "w=\"zaid\"\n",
    "ch=len(w)-1\n",
    "while ch>=0:\n",
    "    print(w[ch])\n",
    "    ch=ch-1"
   ]
  },
  {
   "cell_type": "code",
   "execution_count": 62,
   "id": "71844f83",
   "metadata": {},
   "outputs": [
    {
     "data": {
      "text/plain": [
       "'my name is Zaid'"
      ]
     },
     "execution_count": 62,
     "metadata": {},
     "output_type": "execute_result"
    }
   ],
   "source": [
    "\"{} name is Zaid\".format(\"my\")"
   ]
  },
  {
   "cell_type": "code",
   "execution_count": 63,
   "id": "ac28a248",
   "metadata": {},
   "outputs": [
    {
     "data": {
      "text/plain": [
       "'my name is Zaid'"
      ]
     },
     "execution_count": 63,
     "metadata": {},
     "output_type": "execute_result"
    }
   ],
   "source": [
    "\"{} name {} Zaid\".format(\"my\",\"is\")"
   ]
  },
  {
   "cell_type": "code",
   "execution_count": 64,
   "id": "e81409eb",
   "metadata": {},
   "outputs": [
    {
     "name": "stdout",
     "output_type": "stream",
     "text": [
      "jdsjkjfds\n",
      "fkjsifjasio\n"
     ]
    }
   ],
   "source": [
    "a=input()\n",
    "b=input()"
   ]
  },
  {
   "cell_type": "code",
   "execution_count": 65,
   "id": "cc7df543",
   "metadata": {},
   "outputs": [
    {
     "data": {
      "text/plain": [
       "'jdsjkjfds name fkjsifjasio Zaid'"
      ]
     },
     "execution_count": 65,
     "metadata": {},
     "output_type": "execute_result"
    }
   ],
   "source": [
    "\"{} name {} Zaid\".format(a,b)"
   ]
  },
  {
   "cell_type": "code",
   "execution_count": null,
   "id": "9df0e9a1",
   "metadata": {},
   "outputs": [],
   "source": [
    "s=input(\"Enter the data to check a palindrome\")\n",
    "s1=s[::-1]\n",
    "if s=s1:\n",
    "    print(\" s is palindrome\")\n",
    "    else:\n",
    "        print(\"not as palindrome\")"
   ]
  },
  {
   "cell_type": "code",
   "execution_count": 3,
   "id": "ee974402",
   "metadata": {},
   "outputs": [
    {
     "name": "stdout",
     "output_type": "stream",
     "text": [
      "Enter the data to check a palindromeeye\n",
      " s is palindrome\n"
     ]
    }
   ],
   "source": [
    "s=input(\"Enter the data to check a palindrome\")\n",
    "s1=s[::-1]\n",
    "if s == s1:\n",
    "    print(\" s is palindrome\")\n",
    "else:\n",
    "    print(\"not as palindrome\")"
   ]
  },
  {
   "cell_type": "code",
   "execution_count": 5,
   "id": "568547c9",
   "metadata": {},
   "outputs": [],
   "source": [
    "l=[\"zaid\",7,40,[100,99]]"
   ]
  },
  {
   "cell_type": "code",
   "execution_count": 6,
   "id": "005d6151",
   "metadata": {},
   "outputs": [
    {
     "data": {
      "text/plain": [
       "[100, 99]"
      ]
     },
     "execution_count": 6,
     "metadata": {},
     "output_type": "execute_result"
    }
   ],
   "source": [
    "l[3]"
   ]
  },
  {
   "cell_type": "code",
   "execution_count": 7,
   "id": "87ccd375",
   "metadata": {},
   "outputs": [
    {
     "data": {
      "text/plain": [
       "[]"
      ]
     },
     "execution_count": 7,
     "metadata": {},
     "output_type": "execute_result"
    }
   ],
   "source": [
    "l[0:3:-1]\n",
    "#contradiction occurs "
   ]
  },
  {
   "cell_type": "code",
   "execution_count": 8,
   "id": "0695276c",
   "metadata": {},
   "outputs": [
    {
     "data": {
      "text/plain": [
       "[[100, 99], 40, 7]"
      ]
     },
     "execution_count": 8,
     "metadata": {},
     "output_type": "execute_result"
    }
   ],
   "source": [
    "l[3:0:-1]"
   ]
  },
  {
   "cell_type": "code",
   "execution_count": 12,
   "id": "08394094",
   "metadata": {},
   "outputs": [
    {
     "data": {
      "text/plain": [
       "['z', 'a', 'i', 'd']"
      ]
     },
     "execution_count": 12,
     "metadata": {},
     "output_type": "execute_result"
    }
   ],
   "source": [
    "s=\"zaid\"\n",
    "s=list(s)\n",
    "s\n",
    "#conversion leads to split in words"
   ]
  },
  {
   "cell_type": "code",
   "execution_count": 13,
   "id": "89afb403",
   "metadata": {},
   "outputs": [],
   "source": [
    "s=[\"zaid\"]"
   ]
  },
  {
   "cell_type": "code",
   "execution_count": 14,
   "id": "2b77914c",
   "metadata": {},
   "outputs": [
    {
     "data": {
      "text/plain": [
       "['zaid', 7, 40, [100, 99], 'zaid']"
      ]
     },
     "execution_count": 14,
     "metadata": {},
     "output_type": "execute_result"
    }
   ],
   "source": [
    "l+s"
   ]
  },
  {
   "cell_type": "code",
   "execution_count": 15,
   "id": "a1b0ea83",
   "metadata": {},
   "outputs": [
    {
     "data": {
      "text/plain": [
       "False"
      ]
     },
     "execution_count": 15,
     "metadata": {},
     "output_type": "execute_result"
    }
   ],
   "source": [
    "\"sudh\" in l"
   ]
  },
  {
   "cell_type": "code",
   "execution_count": 16,
   "id": "e40b26a8",
   "metadata": {},
   "outputs": [
    {
     "data": {
      "text/plain": [
       "False"
      ]
     },
     "execution_count": 16,
     "metadata": {},
     "output_type": "execute_result"
    }
   ],
   "source": [
    "10 in l"
   ]
  },
  {
   "cell_type": "code",
   "execution_count": null,
   "id": "8f920eb8",
   "metadata": {},
   "outputs": [],
   "source": []
  }
 ],
 "metadata": {
  "kernelspec": {
   "display_name": "Python 3 (ipykernel)",
   "language": "python",
   "name": "python3"
  },
  "language_info": {
   "codemirror_mode": {
    "name": "ipython",
    "version": 3
   },
   "file_extension": ".py",
   "mimetype": "text/x-python",
   "name": "python",
   "nbconvert_exporter": "python",
   "pygments_lexer": "ipython3",
   "version": "3.10.5"
  }
 },
 "nbformat": 4,
 "nbformat_minor": 5
}
